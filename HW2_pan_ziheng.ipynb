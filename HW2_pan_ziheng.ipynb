{
  "nbformat": 4,
  "nbformat_minor": 0,
  "metadata": {
    "colab": {
      "name": "HW2_pan_ziheng",
      "provenance": [],
      "collapsed_sections": []
    },
    "kernelspec": {
      "name": "python3",
      "display_name": "Python 3"
    }
  },
  "cells": [
    {
      "cell_type": "markdown",
      "metadata": {
        "id": "bNsIruOzI4iF"
      },
      "source": [
        "## **Homework 2**\n",
        "\n",
        "### Create a copy of the notebook to start answering the questions. Name your notebook in the format HW2_lastname_firstname.ipynb to facilitate the grading process. \n",
        "\n",
        "### Answer all the questions, test your code to ensure there are no errors and the results are as expected. Once you have answered all the questions, save the final copy, then go to File-> click on Download.ipynb. Once the local copy has been downloaded, submit your file on Blackboard under the corresponding assignment section. Also provide us a link to your notebook during submission. \n",
        "\n",
        "### **The due date of this homework is 02/12/2021 (Friday).**\n",
        "\n",
        "### Please ensure you follow all the steps mentioned in the homework.\n",
        "\n",
        "### All the questions have a sample input and output to help you understand the question.\n",
        "\n",
        "### You can submit your solutions any number of times until the deadline.\n"
      ]
    },
    {
      "cell_type": "markdown",
      "metadata": {
        "id": "U3Yz3s2uio1F"
      },
      "source": [
        "**Q1. Lets consider your data is like the below cell:**\n",
        "\n",
        "**Q1-1**: Write a program that create a dataframe from the data.\n",
        "\n",
        "**Q1-2:** Select people that are psychologist or teacher and their number of cars is greater than their family size.\n",
        "\n",
        "**Q1-3:** Select people who have at most 2 family members and at least 1 car.\n",
        "\n",
        "**Q1-4:** Write a code that get number of unique jobs in this dataset.\n",
        "\n",
        "\n",
        "\n"
      ]
    },
    {
      "cell_type": "code",
      "metadata": {
        "id": "yR8lcOtcjxXD"
      },
      "source": [
        "data = {\"name\": [\"Joseph\", \"Jacob\", \"Sam\", \"Jesee\", \"Ryan\", \"Lisa\", \"Lee\"],\n",
        "        \"job\": [\"teacher\", \"psychologist\", \"data scientist\", \"software developer\", \"psychologist\", \"psychologist\", \"teacher\"],\n",
        "        \"family_size\": [3, 2, 1, 4, 2, 3, 2],\n",
        "        \"num_cars\": [3, 1, 1, 2, 2, 4, 1]}"
      ],
      "execution_count": 4,
      "outputs": []
    },
    {
      "cell_type": "code",
      "metadata": {
        "id": "Youi5qMaP34p",
        "colab": {
          "base_uri": "https://localhost:8080/"
        },
        "outputId": "e4634ad6-450b-46ae-e184-c03d8bfc822b"
      },
      "source": [
        "# Type your solution here\r\n",
        "data = {\"name\": [\"Joseph\", \"Jacob\", \"Sam\", \"Jesee\", \"Ryan\", \"Lisa\", \"Lee\"],\r\n",
        "        \"job\": [\"teacher\", \"psychologist\", \"data scientist\", \"software developer\", \"psychologist\", \"psychologist\", \"teacher\"],\r\n",
        "        \"family_size\": [3, 2, 1, 4, 2, 3, 2],\r\n",
        "        \"num_cars\": [3, 1, 1, 2, 2, 4, 1]}\r\n",
        "import pandas as pd\r\n",
        "# create a dataframe\r\n",
        "# Q1-1\r\n",
        "df = pd.DataFrame(data)\r\n",
        "print(df)\r\n",
        "\r\n",
        "# Q1-2\r\n",
        "print(df[((df[\"job\"] == \"psychologist\") | (df[\"job\"] == \"teacher\")) & (df[\"num_cars\"] > df[\"family_size\"])])\r\n",
        "\r\n",
        "# Q1-3\r\n",
        "print(df[(df[\"num_cars\"] >= 1) & (df[\"family_size\"] <= 2)])\r\n",
        "\r\n",
        "# Q1-4\r\n",
        "print(\"There are \" + str(len(df.job.unique())) + \" unique jobs.\")\r\n",
        "\r\n"
      ],
      "execution_count": 22,
      "outputs": [
        {
          "output_type": "stream",
          "text": [
            "     name                 job  family_size  num_cars\n",
            "0  Joseph             teacher            3         3\n",
            "1   Jacob        psychologist            2         1\n",
            "2     Sam      data scientist            1         1\n",
            "3   Jesee  software developer            4         2\n",
            "4    Ryan        psychologist            2         2\n",
            "5    Lisa        psychologist            3         4\n",
            "6     Lee             teacher            2         1\n",
            "   name           job  family_size  num_cars\n",
            "5  Lisa  psychologist            3         4\n",
            "    name             job  family_size  num_cars\n",
            "1  Jacob    psychologist            2         1\n",
            "2    Sam  data scientist            1         1\n",
            "4   Ryan    psychologist            2         2\n",
            "6    Lee         teacher            2         1\n",
            "There are 4 unique jobs.\n"
          ],
          "name": "stdout"
        }
      ]
    },
    {
      "cell_type": "markdown",
      "metadata": {
        "id": "Ow6nG8k4l91X"
      },
      "source": [
        "**Q2. Lets consider you have two series like the below cell. Compute the mean of weights of each fruit.**"
      ]
    },
    {
      "cell_type": "code",
      "metadata": {
        "id": "u-X_DoOzVLLB"
      },
      "source": [
        "import numpy as np\n",
        "fruit = pd.Series(np.random.choice(['apple', 'banana', 'carrot'], 10))\n",
        "weights = pd.Series(np.linspace(1, 10, 10))"
      ],
      "execution_count": null,
      "outputs": []
    },
    {
      "cell_type": "code",
      "metadata": {
        "id": "S419nzYnpU__",
        "colab": {
          "base_uri": "https://localhost:8080/"
        },
        "outputId": "c8b0d504-b547-4bd9-95e0-f2ea7504ffb8"
      },
      "source": [
        "# Type your solution here\r\n",
        "import numpy as np\r\n",
        "import pandas as pd\r\n",
        "fruit = pd.Series(np.random.choice(['apple', 'banana', 'carrot'], 10))\r\n",
        "weights = pd.Series(np.linspace(1, 10, 10))\r\n",
        "data = {\"fruit\": fruit, \"weights\": weights}\r\n",
        "df = pd.DataFrame(data)\r\n",
        "print(df)\r\n",
        "# average weights of each fruit\r\n",
        "print(df.groupby(\"fruit\").mean())"
      ],
      "execution_count": 89,
      "outputs": [
        {
          "output_type": "stream",
          "text": [
            "    fruit  weights\n",
            "0   apple      1.0\n",
            "1  banana      2.0\n",
            "2  carrot      3.0\n",
            "3  banana      4.0\n",
            "4  banana      5.0\n",
            "5  carrot      6.0\n",
            "6   apple      7.0\n",
            "7  carrot      8.0\n",
            "8   apple      9.0\n",
            "9  carrot     10.0\n",
            "         weights\n",
            "fruit           \n",
            "apple   5.666667\n",
            "banana  3.666667\n",
            "carrot  6.750000\n"
          ],
          "name": "stdout"
        }
      ]
    },
    {
      "cell_type": "markdown",
      "metadata": {
        "id": "g4lKaPIhtVrt"
      },
      "source": [
        "**Q3. Consider the below course_name array:**\n",
        "\n",
        "**Q3-1**: Write a NumPy program to get the indices of the sorted elements of **course_name** array.\n",
        "\n",
        "**Q3-2:** Write numpy code to check whether each element of **course_name** array starts with \"P\".\n"
      ]
    },
    {
      "cell_type": "code",
      "metadata": {
        "id": "RUP_jp2KtVrx"
      },
      "source": [
        "import numpy as np\n",
        "course_name = np.array(['Python', 'JS', 'examples', 'PHP', 'html'])"
      ],
      "execution_count": null,
      "outputs": []
    },
    {
      "cell_type": "code",
      "metadata": {
        "id": "U1i27POxv-o_",
        "colab": {
          "base_uri": "https://localhost:8080/"
        },
        "outputId": "29583ecb-c8a9-4566-cbe0-88ee2bd26a25"
      },
      "source": [
        "# Type your solution here\r\n",
        "import numpy as np\r\n",
        "import pandas as pd\r\n",
        "course_name = np.array(['Python', 'JS', 'examples', 'PHP', 'html'])\r\n",
        "# Q3-1\r\n",
        "sorted_course_name = np.sort(course_name)\r\n",
        "print(sorted_course_name)\r\n",
        "indices=[]\r\n",
        "for name in sorted_course_name:\r\n",
        "  index = np.where(course_name == name)[0]\r\n",
        "  indices = np.concatenate((indices, index))\r\n",
        "print(indices)\r\n",
        "# or could convert into series first\r\n",
        "series = pd.Series(course_name)\r\n",
        "series.sort_values(inplace = True)\r\n",
        "print(series)\r\n",
        "\r\n",
        "# Q3-2\r\n",
        "all_start_with_P = True\r\n",
        "check_list = []\r\n",
        "for name in course_name:\r\n",
        "  if name[0] != \"P\":\r\n",
        "    all_start_with_P = False\r\n",
        "    check_list.append(False)\r\n",
        "  else:\r\n",
        "    check_list.append(True)\r\n",
        "\r\n",
        "print(check_list)\r\n",
        "if all_start_with_P:\r\n",
        "  print(\"Each element of course name starts with \\\"P\\\"\")\r\n",
        "else:\r\n",
        "  print(\"Not each element of course name starts with \\\"P\\\"\")\r\n",
        "\r\n"
      ],
      "execution_count": 90,
      "outputs": [
        {
          "output_type": "stream",
          "text": [
            "['JS' 'PHP' 'Python' 'examples' 'html']\n",
            "[1. 3. 0. 2. 4.]\n",
            "1          JS\n",
            "3         PHP\n",
            "0      Python\n",
            "2    examples\n",
            "4        html\n",
            "dtype: object\n",
            "[True, False, False, True, False]\n",
            "Not each element of course name starts with \"P\"\n"
          ],
          "name": "stdout"
        }
      ]
    },
    {
      "cell_type": "markdown",
      "metadata": {
        "id": "sUFItNFOxwkz"
      },
      "source": [
        "**Q4. Consider the below student_id array:**\n",
        "\n",
        "**Q4-1:** Reverse the **student_id** array. Print both original and reversed array.\n",
        "\n",
        "**Q4-2:** Get the 3-largest values of **student_id** array."
      ]
    },
    {
      "cell_type": "code",
      "metadata": {
        "id": "Rl5qzEjFv0nw"
      },
      "source": [
        "import numpy as np\n",
        "student_id = np.array([1023, 5202, 6230, 1671, 1682, 5241, 4532])"
      ],
      "execution_count": null,
      "outputs": []
    },
    {
      "cell_type": "code",
      "metadata": {
        "id": "EetvHGrUxMCC",
        "colab": {
          "base_uri": "https://localhost:8080/"
        },
        "outputId": "b1cfbac5-ada9-4c55-ae17-4c25387ea229"
      },
      "source": [
        "# Type your solution here\r\n",
        "import numpy as np\r\n",
        "student_id = np.array([1023, 5202, 6230, 1671, 1682, 5241, 4532])\r\n",
        "# Q4-1\r\n",
        "print(student_id)\r\n",
        "reverse_id = student_id[::-1]\r\n",
        "print(reverse_id)\r\n",
        "\r\n",
        "# Q4-2\r\n",
        "sorted_id = np.sort(student_id)\r\n",
        "# three largest values\r\n",
        "print(sorted_id[-3:])"
      ],
      "execution_count": 78,
      "outputs": [
        {
          "output_type": "stream",
          "text": [
            "[1023 5202 6230 1671 1682 5241 4532]\n",
            "[4532 5241 1682 1671 6230 5202 1023]\n",
            "[5202 5241 6230]\n"
          ],
          "name": "stdout"
        }
      ]
    },
    {
      "cell_type": "markdown",
      "metadata": {
        "id": "uKRyDVuW6B19"
      },
      "source": [
        "# **Q5: Write a numpy program to print sum of all the multiples of 3 or 5 below 100**"
      ]
    },
    {
      "cell_type": "code",
      "metadata": {
        "id": "ZIixq1gz6OK3",
        "colab": {
          "base_uri": "https://localhost:8080/"
        },
        "outputId": "87dc4595-c6c3-4ff6-ad55-0d41a1a62412"
      },
      "source": [
        "# Type your solution here\n",
        "\n",
        "# Hint: you can use arange to start off\n",
        "import numpy as np\n",
        "array = np.arange(1,100)\n",
        "num_list = []\n",
        "sum = 0\n",
        "for num in array:\n",
        "  if (num%3 == 0) | (num%5 == 0):\n",
        "    num_list.append(num)\n",
        "    sum = sum + num\n",
        "print(num_list)\n",
        "print(\"The sum is: \" + str(sum))"
      ],
      "execution_count": 84,
      "outputs": [
        {
          "output_type": "stream",
          "text": [
            "[3, 5, 6, 9, 10, 12, 15, 18, 20, 21, 24, 25, 27, 30, 33, 35, 36, 39, 40, 42, 45, 48, 50, 51, 54, 55, 57, 60, 63, 65, 66, 69, 70, 72, 75, 78, 80, 81, 84, 85, 87, 90, 93, 95, 96, 99]\n",
            "The sum is: 2318\n"
          ],
          "name": "stdout"
        }
      ]
    },
    {
      "cell_type": "markdown",
      "metadata": {
        "id": "2CWJOsP24c34"
      },
      "source": [
        "**Q6. Consider the below array.**\n",
        "\n",
        "Q6.1. Write a code to swap column 1 with column 2.\n",
        "\n",
        "Q6.2. Write a code to swap row 0 with row 1."
      ]
    },
    {
      "cell_type": "code",
      "metadata": {
        "id": "3OG6X5Eg5KSM"
      },
      "source": [
        "import numpy as np\n",
        "\n",
        "arr = np.arange(12).reshape(3,4)\n",
        "print(arr)"
      ],
      "execution_count": null,
      "outputs": []
    },
    {
      "cell_type": "code",
      "metadata": {
        "id": "Q-Q91DpO5YYW",
        "colab": {
          "base_uri": "https://localhost:8080/"
        },
        "outputId": "d1157bb9-ed31-446b-9c87-f0bd4c20a4b0"
      },
      "source": [
        "# Type your solution here\r\n",
        "import numpy as np\r\n",
        "\r\n",
        "arr = np.arange(12).reshape(3,4)\r\n",
        "print(arr)\r\n",
        "\r\n",
        "# Q6.1\r\n",
        "arr1 = arr[:,[0,2,1,3]]\r\n",
        "print(arr1)\r\n",
        "\r\n",
        "# Q6.2\r\n",
        "arr2 = arr[[1,0,2],:]\r\n",
        "print(arr2)"
      ],
      "execution_count": 88,
      "outputs": [
        {
          "output_type": "stream",
          "text": [
            "[[ 0  1  2  3]\n",
            " [ 4  5  6  7]\n",
            " [ 8  9 10 11]]\n",
            "[[ 0  2  1  3]\n",
            " [ 4  6  5  7]\n",
            " [ 8 10  9 11]]\n",
            "[[ 4  5  6  7]\n",
            " [ 0  1  2  3]\n",
            " [ 8  9 10 11]]\n"
          ],
          "name": "stdout"
        }
      ]
    }
  ]
}